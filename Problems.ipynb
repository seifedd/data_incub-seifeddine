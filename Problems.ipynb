{
 "cells": [
  {
   "cell_type": "code",
   "execution_count": 186,
   "metadata": {},
   "outputs": [],
   "source": [
    "## Problem 1 \n",
    "#imports \n",
    "import csv\n",
    "import numpy as np\n",
    "import pandas as pd\n",
    "from itertools import combinations\n",
    "import matplotlib.pyplot as plt"
   ]
  },
  {
   "cell_type": "code",
   "execution_count": 4,
   "metadata": {},
   "outputs": [],
   "source": [
    "filename=\"Arrest_Data_from_2010_to_Present.csv\""
   ]
  },
  {
   "cell_type": "code",
   "execution_count": 7,
   "metadata": {
    "scrolled": true
   },
   "outputs": [
    {
     "name": "stdout",
     "output_type": "stream",
     "text": [
      "Shape : (1310127, 17)\n",
      "The shape after extracting date after January 1st 2019: (1231847, 17)\n",
      "The number arrests made in 2018: 104277\n"
     ]
    }
   ],
   "source": [
    "#Read the results as dataframe and assign the result to arrests\n",
    "arrests=pd.read_csv(filename)\n",
    "# print(arrests.head(10))\n",
    "\n",
    "print(\"Shape :\", arrests.shape)\n",
    "\n",
    "#Consider rows such as date < January 1, 2019\n",
    "mask = (pd.to_datetime(arrests['Arrest Date'])  <= '01/01/2019')\n",
    "arrests = arrests.loc[mask]\n",
    "print(\"The shape after extracting date <= January 1st 2019:\", arrests.shape)\n",
    "\n",
    "# Extract the date from arrests records\n",
    "arr_date=arrests['Arrest Date'];\n",
    "\n",
    "s=[i.split('/') for i in arr_date];\n",
    "res=[]\n",
    "res_month,res_day,res_year=[],[],[]\n",
    "for i,x in enumerate(s):\n",
    "    element=list(map(int,[j for j in x]))\n",
    "    res.append(element)\n",
    "\n",
    "arrests['day']=list([ mmonth[0] for mmonth in res])\n",
    "arrests['month']=list([day[1] for day in res])\n",
    "arrests['year']=list([myear[2] for myear in res])\n",
    "\n",
    "# How many Arrest Date in 2018\n",
    "\n",
    "arrests_2018=arrests[arrests['year']==2018];\n",
    "print(\"The number arrests made in 2018:\",len(arrests[arrests['year']==2018]))"
   ]
  },
  {
   "cell_type": "code",
   "execution_count": 209,
   "metadata": {},
   "outputs": [
    {
     "data": {
      "text/plain": [
       "165        True\n",
       "166        True\n",
       "167        True\n",
       "168        True\n",
       "169        True\n",
       "170        True\n",
       "171        True\n",
       "176        True\n",
       "177        True\n",
       "178        True\n",
       "179        True\n",
       "180        True\n",
       "181        True\n",
       "182        True\n",
       "183        True\n",
       "184        True\n",
       "185        True\n",
       "186        True\n",
       "187        True\n",
       "188        True\n",
       "189        True\n",
       "190        True\n",
       "191        True\n",
       "192        True\n",
       "193        True\n",
       "194        True\n",
       "195        True\n",
       "196        True\n",
       "197        True\n",
       "198        True\n",
       "           ... \n",
       "1290474    True\n",
       "1290478    True\n",
       "1290479    True\n",
       "1290505    True\n",
       "1290512    True\n",
       "1290527    True\n",
       "1290530    True\n",
       "1290532    True\n",
       "1290538    True\n",
       "1290539    True\n",
       "1290541    True\n",
       "1290542    True\n",
       "1290557    True\n",
       "1290561    True\n",
       "1290564    True\n",
       "1290570    True\n",
       "1290596    True\n",
       "1290631    True\n",
       "1290632    True\n",
       "1290633    True\n",
       "1290634    True\n",
       "1290637    True\n",
       "1290639    True\n",
       "1290641    True\n",
       "1290651    True\n",
       "1290652    True\n",
       "1290661    True\n",
       "1290666    True\n",
       "1290673    True\n",
       "1290693    True\n",
       "Name: Arrest Date, Length: 104277, dtype: bool"
      ]
     },
     "execution_count": 209,
     "metadata": {},
     "output_type": "execute_result"
    }
   ],
   "source": [
    "len(arrests[(pd.to_datetime(arrests_2018['Arrest Date'])>='01/01/2018') |  (pd.to_datetime(arrests_2018['Arrest Date']) <= '12/31/2018' )])"
   ]
  },
  {
   "cell_type": "code",
   "execution_count": 44,
   "metadata": {
    "scrolled": true
   },
   "outputs": [
    {
     "data": {
      "image/png": "[encoded data removed]",
      "text/plain": [
       "<Figure size 432x288 with 1 Axes>"
      ]
     },
     "metadata": {
      "needs_background": "light"
     },
     "output_type": "display_data"
    },
    {
     "data": {
      "image/png": "[encoded data removed]",
      "text/plain": [
       "<Figure size 432x288 with 1 Axes>"
      ]
     },
     "metadata": {
      "needs_background": "light"
     },
     "output_type": "display_data"
    },
    {
     "data": {
      "text/plain": [
       "129608"
      ]
     },
     "execution_count": 44,
     "metadata": {},
     "output_type": "execute_result"
    }
   ],
   "source": [
    "#The area with the most arrests in 2018\n",
    "plt.clf()\n",
    "df=arrests[arrests['year']==2018].groupby('Area ID').size().plot(kind='bar')\n",
    "plt.show()\n",
    "plt.clf()\n",
    "df=arrests.groupby('year').size().plot(kind='bar')\n",
    "plt.show()\n",
    "len(arrests[arrests['Area ID']==1 && arrests['year']==2018])\n",
    "\n",
    "print(\":\\_\",len(arrests[arrests['Area ID']==1]))"
   ]
  },
  {
   "cell_type": "code",
   "execution_count": 24,
   "metadata": {},
   "outputs": [
    {
     "name": "stdout",
     "output_type": "stream",
     "text": [
      "53.0\n"
     ]
    }
   ],
   "source": [
    "# What is the 95% quantile of the age of the arrestee in 2018?\n",
    "# arrests_2018['Charge Group Description'][100:150]\n",
    "mylist=['Vehicle Theft','Robbery','Burglary','  Receive Stolen Property']\n",
    "# If case sensitive   \n",
    "df_1=arrests_2018[arrests_2018['Charge Description'].str.lower().isin([x.lower() for x in mylist])]\n",
    "#OR if not case senstive \n",
    "df1=arrests_2018[arrests_2018['Charge Description'].isin(mylist)]\n",
    "p = np.percentile(df_1['Age'], 95)\n",
    "print(p)"
   ]
  },
  {
   "cell_type": "code",
   "execution_count": 141,
   "metadata": {},
   "outputs": [
    {
     "name": "stdout",
     "output_type": "stream",
     "text": [
      "The highest z-score belongs to drunkness  2.1717481576567237\n"
     ]
    }
   ],
   "source": [
    "#For this question, calculate the Z-score of the average age for each charge group. \n",
    "#Report the largest absolute value among the calculated Z-scores.\n",
    "\n",
    "df_2=arrests_2018[arrests_2018['Charge Group Description'].notnull()]\n",
    "# Do not consider \"Pre-Delinquency\" and \"Non-Criminal Detention\" as these charge groups are reserved for minors\n",
    "mylist_to_exclude=[\"Pre-Delinquency\",\"Non-Criminal Detention\"]\n",
    "df_2=df_2[df_2['Charge Group Description'].isin(mylist_to_exclude)==False]\n",
    "\n",
    "df_3=df_2.groupby('Charge Group Description')['Age'].mean()\n",
    "zscore = lambda x: (x - np.mean(x)) / np.std(x) ;\n",
    "abs(zscore(df_3))\n",
    "print(\"The highest z-score belongs to drunkness \",max(abs(zscore(df_3))))"
   ]
  },
  {
   "cell_type": "code",
   "execution_count": 202,
   "metadata": {},
   "outputs": [
    {
     "name": "stdout",
     "output_type": "stream",
     "text": [
      "(388962, 20)\n",
      "Fellowny arrests in 2010 51157\n",
      "Fellowny arrests in 2011 49830\n",
      "Fellowny arrests in 2012 50610\n",
      "Fellowny arrests in 2013 47882\n",
      "Fellowny arrests in 2014 45878\n",
      "Fellowny arrests in 2015 35709\n",
      "Fellowny arrests in 2016 36880\n",
      "Fellowny arrests in 2017 35974\n",
      "Fellowny arrests in 2018 34948\n",
      "Fellowny arrests in 2019 94\n"
     ]
    },
    {
     "data": {
      "text/plain": [
       "31037.80555555597"
      ]
     },
     "execution_count": 202,
     "metadata": {},
     "output_type": "execute_result"
    }
   ],
   "source": [
    "# Fellony arrest incident 2010 \n",
    "fellony_df=arrests[arrests['Arrest Type Code']=='F']\n",
    "print(fellony_df.shape)\n",
    "print(\"Fellowny arrests in 2010\",len(arrests[(arrests['year']==2010) & (arrests['Arrest Type Code']=='F')]))\n",
    "print(\"Fellowny arrests in 2011\",len(arrests[(arrests['year']==2011) & (arrests['Arrest Type Code']=='F')]))\n",
    "print(\"Fellowny arrests in 2012\",len(arrests[(arrests['year']==2012) & (arrests['Arrest Type Code']=='F')]))\n",
    "print(\"Fellowny arrests in 2013\",len(arrests[(arrests['year']==2013) & (arrests['Arrest Type Code']=='F')]))\n",
    "print(\"Fellowny arrests in 2014\",len(arrests[(arrests['year']==2014) & (arrests['Arrest Type Code']=='F')]))\n",
    "print(\"Fellowny arrests in 2015\",len(arrests[(arrests['year']==2015) & (arrests['Arrest Type Code']=='F')]))\n",
    "print(\"Fellowny arrests in 2016\",len(arrests[(arrests['year']==2016) & (arrests['Arrest Type Code']=='F')]))\n",
    "print(\"Fellowny arrests in 2017\",len(arrests[(arrests['year']==2017) & (arrests['Arrest Type Code']=='F')]))\n",
    "print(\"Fellowny arrests in 2018\",len(arrests[(arrests['year']==2018) & (arrests['Arrest Type Code']=='F')]))\n",
    "print(\"Fellowny arrests in 2019\",len(arrests[(arrests['day']==1) & (arrests['month']==1) &(arrests['year']==2019) & (arrests['Arrest Type Code']=='F')]))\n",
    "#\n",
    "def linreg(X, Y):\n",
    "    \"\"\"\n",
    "    return a,b in solution to y = ax + b such that root mean square distance between trend line and original points is minimized\n",
    "    \"\"\"\n",
    "    N = len(X)\n",
    "    Sx = Sy = Sxx = Syy = Sxy = 0.0\n",
    "    for x, y in zip(X, Y):\n",
    "        Sx = Sx + x\n",
    "        Sy = Sy + y\n",
    "        Sxx = Sxx + x*x\n",
    "        Syy = Syy + y*y\n",
    "        Sxy = Sxy + x*y\n",
    "    det = Sxx * N - Sx * Sx\n",
    "    return (Sxy * N - Sy * Sx)/det, (Sxx * Sy - Sx * Sxy)/det\n",
    "\n",
    "\n",
    "y=[51157, 49830,50610,47882,45878,35709,36880,35974,34948]\n",
    "x=[2010,2011,2012,2013,2014,2015,2016,2017,2018]\n",
    "\n",
    "#---------------------------#\n",
    "a,b = linreg(x,y)\n",
    "a,b\n",
    "extrapolatedtrendline=a*2019+b;\n",
    "extrapolatedtrendline"
   ]
  },
  {
   "cell_type": "code",
   "execution_count": 587,
   "metadata": {
    "scrolled": true
   },
   "outputs": [
    {
     "name": "stdout",
     "output_type": "stream",
     "text": [
      "Total number of records before cleaning the (0,0) (104277,)\n",
      "Total number of records (104260,)\n",
      "distance less 2 KM from the building  11461\n"
     ]
    }
   ],
   "source": [
    "# arrestLocation\n",
    "from ast import literal_eval as make_tuple\n",
    "df=arrests_2018['Location'].apply(lambda x: make_tuple(x))\n",
    "print(\"Total number of records before cleaning the (0,0)\",df.shape)\n",
    "\n",
    "df=df[df!=(0,0)]\n",
    "print(\"Total number of records\", df.shape)\n",
    "\n",
    "\n",
    "lat1=(34.050536) #Latitude of Bradbury building\n",
    "long1=(-118.247861) #Longitude of Bradbury building\n",
    "\n",
    "from math import sin, cos, sqrt, atan2, radians\n",
    "\n",
    "# # approximate radius of earth in km\n",
    "R = 6371.0\n",
    "df=pd.DataFrame(df.values.tolist(), index=df.index)\n",
    "lat2=np.array(df.iloc[:, [0]])\n",
    "long2=np.array(df.iloc[:, [1]])\n",
    "\n",
    "    \n",
    "    \n",
    "\n",
    "import math\n",
    "def distance(origin, destination):\n",
    "    lat1, lon1 = origin\n",
    "    lat2, lon2 = destination\n",
    "    radius = 6371 # km\n",
    "\n",
    "    dlat = math.radians(lat2-lat1)\n",
    "    dlon = math.radians(lon2-lon1)\n",
    "    a = math.sin(dlat/2) * math.sin(dlat/2) + math.cos(math.radians(lat1)) \\\n",
    "        * math.cos(math.radians(lat2)) * math.sin(dlon/2) * math.sin(dlon/2)\n",
    "    c = 2 * math.atan2(math.sqrt(a), math.sqrt(1-a))\n",
    "    d = radius * c\n",
    "\n",
    "    return d\n",
    "\n",
    "dist=[]\n",
    "for i in range(1,len(lat2)):\n",
    "    origin=(lat1,long1)\n",
    "    destination=(lat2[i],long2[i])\n",
    "    dist.append(distance(origin,destination))\n",
    "    \n",
    "dist=np.array(dist)\n",
    "print(\"distance less 2 KM from the building \",len(dist[dist<=2.0]))\n"
   ]
  }
 ],
 "metadata": {
  "kernelspec": {
   "display_name": "Python 3",
   "language": "python",
   "name": "python3"
  },
  "language_info": {
   "codemirror_mode": {
    "name": "ipython",
    "version": 3
   },
   "file_extension": ".py",
   "mimetype": "text/x-python",
   "name": "python",
   "nbconvert_exporter": "python",
   "pygments_lexer": "ipython3",
   "version": "3.6.8"
  }
 },
 "nbformat": 4,
 "nbformat_minor": 2
}
